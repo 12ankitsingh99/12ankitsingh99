{
 "cells": [
  {
   "cell_type": "markdown",
   "id": "edb0b818",
   "metadata": {
    "papermill": {
     "duration": 0.003416,
     "end_time": "2024-03-09T02:14:12.193541",
     "exception": false,
     "start_time": "2024-03-09T02:14:12.190125",
     "status": "completed"
    },
    "tags": []
   },
   "source": [
    "**This notebook is an exercise in the [Introduction to Machine Learning](https://www.kaggle.com/learn/intro-to-machine-learning) course.  You can reference the tutorial at [this link](https://www.kaggle.com/dansbecker/underfitting-and-overfitting).**\n",
    "\n",
    "---\n"
   ]
  },
  {
   "cell_type": "markdown",
   "id": "2b1527b7",
   "metadata": {
    "papermill": {
     "duration": 0.002662,
     "end_time": "2024-03-09T02:14:12.199338",
     "exception": false,
     "start_time": "2024-03-09T02:14:12.196676",
     "status": "completed"
    },
    "tags": []
   },
   "source": [
    "## Recap\n",
    "You've built your first model, and now it's time to optimize the size of the tree to make better predictions. Run this cell to set up your coding environment where the previous step left off."
   ]
  },
  {
   "cell_type": "code",
   "execution_count": 1,
   "id": "889f4a17",
   "metadata": {
    "execution": {
     "iopub.execute_input": "2024-03-09T02:14:12.207172Z",
     "iopub.status.busy": "2024-03-09T02:14:12.206583Z",
     "iopub.status.idle": "2024-03-09T02:14:14.960077Z",
     "shell.execute_reply": "2024-03-09T02:14:14.959094Z"
    },
    "papermill": {
     "duration": 2.759788,
     "end_time": "2024-03-09T02:14:14.961968",
     "exception": false,
     "start_time": "2024-03-09T02:14:12.202180",
     "status": "completed"
    },
    "tags": []
   },
   "outputs": [
    {
     "name": "stdout",
     "output_type": "stream",
     "text": [
      "Validation MAE: 29,653\n",
      "\n",
      "Setup complete\n"
     ]
    }
   ],
   "source": [
    "# Code you have previously used to load data\n",
    "import pandas as pd\n",
    "from sklearn.metrics import mean_absolute_error\n",
    "from sklearn.model_selection import train_test_split\n",
    "from sklearn.tree import DecisionTreeRegressor\n",
    "\n",
    "\n",
    "# Path of the file to read\n",
    "iowa_file_path = '../input/home-data-for-ml-course/train.csv'\n",
    "\n",
    "home_data = pd.read_csv(iowa_file_path)\n",
    "# Create target object and call it y\n",
    "y = home_data.SalePrice\n",
    "# Create X\n",
    "features = ['LotArea', 'YearBuilt', '1stFlrSF', '2ndFlrSF', 'FullBath', 'BedroomAbvGr', 'TotRmsAbvGrd']\n",
    "X = home_data[features]\n",
    "\n",
    "# Split into validation and training data\n",
    "train_X, val_X, train_y, val_y = train_test_split(X, y, random_state=1)\n",
    "\n",
    "# Specify Model\n",
    "iowa_model = DecisionTreeRegressor(random_state=1)\n",
    "# Fit Model\n",
    "iowa_model.fit(train_X, train_y)\n",
    "\n",
    "# Make validation predictions and calculate mean absolute error\n",
    "val_predictions = iowa_model.predict(val_X)\n",
    "val_mae = mean_absolute_error(val_predictions, val_y)\n",
    "print(\"Validation MAE: {:,.0f}\".format(val_mae))\n",
    "\n",
    "# Set up code checking\n",
    "from learntools.core import binder\n",
    "binder.bind(globals())\n",
    "from learntools.machine_learning.ex5 import *\n",
    "print(\"\\nSetup complete\")"
   ]
  },
  {
   "cell_type": "markdown",
   "id": "a8a08072",
   "metadata": {
    "papermill": {
     "duration": 0.002735,
     "end_time": "2024-03-09T02:14:14.967888",
     "exception": false,
     "start_time": "2024-03-09T02:14:14.965153",
     "status": "completed"
    },
    "tags": []
   },
   "source": [
    "# Exercises\n",
    "You could write the function `get_mae` yourself. For now, we'll supply it. This is the same function you read about in the previous lesson. Just run the cell below."
   ]
  },
  {
   "cell_type": "code",
   "execution_count": 2,
   "id": "7eeade2e",
   "metadata": {
    "execution": {
     "iopub.execute_input": "2024-03-09T02:14:14.975790Z",
     "iopub.status.busy": "2024-03-09T02:14:14.974879Z",
     "iopub.status.idle": "2024-03-09T02:14:14.981439Z",
     "shell.execute_reply": "2024-03-09T02:14:14.980184Z"
    },
    "papermill": {
     "duration": 0.013068,
     "end_time": "2024-03-09T02:14:14.983814",
     "exception": false,
     "start_time": "2024-03-09T02:14:14.970746",
     "status": "completed"
    },
    "tags": []
   },
   "outputs": [],
   "source": [
    "def get_mae(max_leaf_nodes, train_X, val_X, train_y, val_y):\n",
    "    model = DecisionTreeRegressor(max_leaf_nodes=max_leaf_nodes, random_state=0)\n",
    "    model.fit(train_X, train_y)\n",
    "    preds_val = model.predict(val_X)\n",
    "    mae = mean_absolute_error(val_y, preds_val)\n",
    "    return(mae)"
   ]
  },
  {
   "cell_type": "markdown",
   "id": "03fcc750",
   "metadata": {
    "papermill": {
     "duration": 0.002743,
     "end_time": "2024-03-09T02:14:14.989722",
     "exception": false,
     "start_time": "2024-03-09T02:14:14.986979",
     "status": "completed"
    },
    "tags": []
   },
   "source": [
    "## Step 1: Compare Different Tree Sizes\n",
    "Write a loop that tries the following values for *max_leaf_nodes* from a set of possible values.\n",
    "\n",
    "Call the *get_mae* function on each value of max_leaf_nodes. Store the output in some way that allows you to select the value of `max_leaf_nodes` that gives the most accurate model on your data."
   ]
  },
  {
   "cell_type": "code",
   "execution_count": 3,
   "id": "1cd636c3",
   "metadata": {
    "execution": {
     "iopub.execute_input": "2024-03-09T02:14:14.997264Z",
     "iopub.status.busy": "2024-03-09T02:14:14.996698Z",
     "iopub.status.idle": "2024-03-09T02:14:15.039114Z",
     "shell.execute_reply": "2024-03-09T02:14:15.038292Z"
    },
    "papermill": {
     "duration": 0.048395,
     "end_time": "2024-03-09T02:14:15.040978",
     "exception": false,
     "start_time": "2024-03-09T02:14:14.992583",
     "status": "completed"
    },
    "tags": []
   },
   "outputs": [
    {
     "name": "stdout",
     "output_type": "stream",
     "text": [
      "Max leaf nodes: 5  \t\t Mean Absolute Error:  35044\n",
      "Max leaf nodes: 25  \t\t Mean Absolute Error:  29016\n",
      "Max leaf nodes: 50  \t\t Mean Absolute Error:  27405\n",
      "Max leaf nodes: 100  \t\t Mean Absolute Error:  27282\n",
      "Max leaf nodes: 250  \t\t Mean Absolute Error:  27893\n",
      "Max leaf nodes: 500  \t\t Mean Absolute Error:  29454\n"
     ]
    },
    {
     "data": {
      "application/javascript": [
       "parent.postMessage({\"jupyterEvent\": \"custom.exercise_interaction\", \"data\": {\"outcomeType\": 1, \"valueTowardsCompletion\": 0.5, \"interactionType\": 1, \"questionType\": 1, \"questionId\": \"1_BestTreeSize\", \"learnToolsVersion\": \"0.3.4\", \"failureMessage\": \"\", \"exceptionClass\": \"\", \"trace\": \"\"}}, \"*\")"
      ],
      "text/plain": [
       "<IPython.core.display.Javascript object>"
      ]
     },
     "metadata": {},
     "output_type": "display_data"
    },
    {
     "data": {
      "text/markdown": [
       "<span style=\"color:#33cc33\">Correct</span>"
      ],
      "text/plain": [
       "Correct"
      ]
     },
     "metadata": {},
     "output_type": "display_data"
    }
   ],
   "source": [
    "candidate_max_leaf_nodes = [5, 25, 50, 100, 250, 500]\n",
    "# Write loop to find the ideal tree size from candidate_max_leaf_nodes\n",
    "for candidate_max_leaf_nodes in [5, 25, 50, 100, 250, 500]:\n",
    "    my_mae = get_mae(candidate_max_leaf_nodes, train_X, val_X, train_y, val_y)\n",
    "    \n",
    "    print(\"Max leaf nodes: %d  \\t\\t Mean Absolute Error:  %d\" %(candidate_max_leaf_nodes, my_mae))\n",
    "\n",
    "# Store the best value of max_leaf_nodes (it will be either 5, 25, 50, 100, 250 or 500)\n",
    "best_tree_size = 100\n",
    "\n",
    "# Check your answer\n",
    "step_1.check()"
   ]
  },
  {
   "cell_type": "code",
   "execution_count": 4,
   "id": "048400e9",
   "metadata": {
    "execution": {
     "iopub.execute_input": "2024-03-09T02:14:15.048573Z",
     "iopub.status.busy": "2024-03-09T02:14:15.048306Z",
     "iopub.status.idle": "2024-03-09T02:14:15.052402Z",
     "shell.execute_reply": "2024-03-09T02:14:15.051276Z"
    },
    "papermill": {
     "duration": 0.009846,
     "end_time": "2024-03-09T02:14:15.054148",
     "exception": false,
     "start_time": "2024-03-09T02:14:15.044302",
     "status": "completed"
    },
    "tags": []
   },
   "outputs": [],
   "source": [
    "# The lines below will show you a hint or the solution.\n",
    "# step_1.hint() \n",
    "# step_1.solution()"
   ]
  },
  {
   "cell_type": "markdown",
   "id": "70a1fecb",
   "metadata": {
    "papermill": {
     "duration": 0.003005,
     "end_time": "2024-03-09T02:14:15.060286",
     "exception": false,
     "start_time": "2024-03-09T02:14:15.057281",
     "status": "completed"
    },
    "tags": []
   },
   "source": [
    "## Step 2: Fit Model Using All Data\n",
    "You know the best tree size. If you were going to deploy this model in practice, you would make it even more accurate by using all of the data and keeping that tree size.  That is, you don't need to hold out the validation data now that you've made all your modeling decisions."
   ]
  },
  {
   "cell_type": "code",
   "execution_count": 5,
   "id": "15eb7e0f",
   "metadata": {
    "execution": {
     "iopub.execute_input": "2024-03-09T02:14:15.068117Z",
     "iopub.status.busy": "2024-03-09T02:14:15.067715Z",
     "iopub.status.idle": "2024-03-09T02:14:15.084562Z",
     "shell.execute_reply": "2024-03-09T02:14:15.083351Z"
    },
    "papermill": {
     "duration": 0.023776,
     "end_time": "2024-03-09T02:14:15.087134",
     "exception": false,
     "start_time": "2024-03-09T02:14:15.063358",
     "status": "completed"
    },
    "tags": []
   },
   "outputs": [
    {
     "data": {
      "application/javascript": [
       "parent.postMessage({\"jupyterEvent\": \"custom.exercise_interaction\", \"data\": {\"outcomeType\": 1, \"valueTowardsCompletion\": 0.5, \"interactionType\": 1, \"questionType\": 2, \"questionId\": \"2_FitModelWithAllData\", \"learnToolsVersion\": \"0.3.4\", \"failureMessage\": \"\", \"exceptionClass\": \"\", \"trace\": \"\"}}, \"*\")"
      ],
      "text/plain": [
       "<IPython.core.display.Javascript object>"
      ]
     },
     "metadata": {},
     "output_type": "display_data"
    },
    {
     "data": {
      "text/markdown": [
       "<span style=\"color:#33cc33\">Correct</span>"
      ],
      "text/plain": [
       "Correct"
      ]
     },
     "metadata": {},
     "output_type": "display_data"
    }
   ],
   "source": [
    "# Fill in argument to make optimal size and uncomment\n",
    "\n",
    "final_model = DecisionTreeRegressor(random_state=1, max_leaf_nodes=best_tree_size)\n",
    "\n",
    "# Fit the final model to all data (combined training and validation sets)\n",
    "final_model.fit(X, y)\n",
    "\n",
    "# Check your answer\n",
    "step_2.check()"
   ]
  },
  {
   "cell_type": "code",
   "execution_count": 6,
   "id": "bdb07cf6",
   "metadata": {
    "execution": {
     "iopub.execute_input": "2024-03-09T02:14:15.096353Z",
     "iopub.status.busy": "2024-03-09T02:14:15.095978Z",
     "iopub.status.idle": "2024-03-09T02:14:15.100951Z",
     "shell.execute_reply": "2024-03-09T02:14:15.099586Z"
    },
    "papermill": {
     "duration": 0.01243,
     "end_time": "2024-03-09T02:14:15.103368",
     "exception": false,
     "start_time": "2024-03-09T02:14:15.090938",
     "status": "completed"
    },
    "tags": []
   },
   "outputs": [],
   "source": [
    "# step_2.hint()\n",
    "# step_2.solution()"
   ]
  },
  {
   "cell_type": "markdown",
   "id": "664f107a",
   "metadata": {
    "papermill": {
     "duration": 0.003351,
     "end_time": "2024-03-09T02:14:15.110621",
     "exception": false,
     "start_time": "2024-03-09T02:14:15.107270",
     "status": "completed"
    },
    "tags": []
   },
   "source": [
    "You've tuned this model and improved your results. But we are still using Decision Tree models, which are not very sophisticated by modern machine learning standards. In the next step you will learn to use Random Forests to improve your models even more.\n",
    "\n",
    "# Keep Going\n",
    "\n",
    "You are ready for **[Random Forests](https://www.kaggle.com/dansbecker/random-forests).**\n"
   ]
  },
  {
   "cell_type": "markdown",
   "id": "e5c38013",
   "metadata": {
    "papermill": {
     "duration": 0.003229,
     "end_time": "2024-03-09T02:14:15.117488",
     "exception": false,
     "start_time": "2024-03-09T02:14:15.114259",
     "status": "completed"
    },
    "tags": []
   },
   "source": [
    "---\n",
    "\n",
    "\n",
    "\n",
    "\n",
    "*Have questions or comments? Visit the [course discussion forum](https://www.kaggle.com/learn/intro-to-machine-learning/discussion) to chat with other learners.*"
   ]
  }
 ],
 "metadata": {
  "kaggle": {
   "accelerator": "none",
   "dataSources": [
    {
     "databundleVersionId": 111096,
     "sourceId": 10211,
     "sourceType": "competition"
    },
    {
     "datasetId": 11167,
     "sourceId": 15520,
     "sourceType": "datasetVersion"
    },
    {
     "datasetId": 2709,
     "sourceId": 38454,
     "sourceType": "datasetVersion"
    }
   ],
   "isGpuEnabled": false,
   "isInternetEnabled": false,
   "language": "python",
   "sourceType": "notebook"
  },
  "kernelspec": {
   "display_name": "Python 3",
   "language": "python",
   "name": "python3"
  },
  "language_info": {
   "codemirror_mode": {
    "name": "ipython",
    "version": 3
   },
   "file_extension": ".py",
   "mimetype": "text/x-python",
   "name": "python",
   "nbconvert_exporter": "python",
   "pygments_lexer": "ipython3",
   "version": "3.10.13"
  },
  "papermill": {
   "default_parameters": {},
   "duration": 5.977699,
   "end_time": "2024-03-09T02:14:15.640027",
   "environment_variables": {},
   "exception": null,
   "input_path": "__notebook__.ipynb",
   "output_path": "__notebook__.ipynb",
   "parameters": {},
   "start_time": "2024-03-09T02:14:09.662328",
   "version": "2.5.0"
  }
 },
 "nbformat": 4,
 "nbformat_minor": 5
}
