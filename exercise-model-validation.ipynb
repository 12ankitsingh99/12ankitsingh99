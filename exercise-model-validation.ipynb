{
 "cells": [
  {
   "cell_type": "markdown",
   "id": "f920b099",
   "metadata": {
    "papermill": {
     "duration": 0.00467,
     "end_time": "2024-03-09T02:04:26.952181",
     "exception": false,
     "start_time": "2024-03-09T02:04:26.947511",
     "status": "completed"
    },
    "tags": []
   },
   "source": [
    "**This notebook is an exercise in the [Introduction to Machine Learning](https://www.kaggle.com/learn/intro-to-machine-learning) course.  You can reference the tutorial at [this link](https://www.kaggle.com/dansbecker/model-validation).**\n",
    "\n",
    "---\n"
   ]
  },
  {
   "cell_type": "markdown",
   "id": "cc261cfd",
   "metadata": {
    "papermill": {
     "duration": 0.003517,
     "end_time": "2024-03-09T02:04:26.959847",
     "exception": false,
     "start_time": "2024-03-09T02:04:26.956330",
     "status": "completed"
    },
    "tags": []
   },
   "source": [
    "## Recap\n",
    "You've built a model. In this exercise you will test how good your model is.\n",
    "\n",
    "Run the cell below to set up your coding environment where the previous exercise left off."
   ]
  },
  {
   "cell_type": "code",
   "execution_count": 1,
   "id": "0833e335",
   "metadata": {
    "execution": {
     "iopub.execute_input": "2024-03-09T02:04:26.969166Z",
     "iopub.status.busy": "2024-03-09T02:04:26.968420Z",
     "iopub.status.idle": "2024-03-09T02:04:29.233885Z",
     "shell.execute_reply": "2024-03-09T02:04:29.232672Z"
    },
    "papermill": {
     "duration": 2.272335,
     "end_time": "2024-03-09T02:04:29.235845",
     "exception": false,
     "start_time": "2024-03-09T02:04:26.963510",
     "status": "completed"
    },
    "tags": []
   },
   "outputs": [
    {
     "name": "stdout",
     "output_type": "stream",
     "text": [
      "First in-sample predictions: [208500. 181500. 223500. 140000. 250000.]\n",
      "Actual target values for those homes: [208500, 181500, 223500, 140000, 250000]\n",
      "Setup Complete\n"
     ]
    }
   ],
   "source": [
    "# Code you have previously used to load data\n",
    "import pandas as pd\n",
    "from sklearn.tree import DecisionTreeRegressor\n",
    "\n",
    "# Path of the file to read\n",
    "iowa_file_path = '../input/home-data-for-ml-course/train.csv'\n",
    "\n",
    "home_data = pd.read_csv(iowa_file_path)\n",
    "y = home_data.SalePrice\n",
    "feature_columns = ['LotArea', 'YearBuilt', '1stFlrSF', '2ndFlrSF', 'FullBath', 'BedroomAbvGr', 'TotRmsAbvGrd']\n",
    "X = home_data[feature_columns]\n",
    "\n",
    "# Specify Model\n",
    "iowa_model = DecisionTreeRegressor()\n",
    "# Fit Model\n",
    "iowa_model.fit(X, y)\n",
    "\n",
    "print(\"First in-sample predictions:\", iowa_model.predict(X.head()))\n",
    "print(\"Actual target values for those homes:\", y.head().tolist())\n",
    "\n",
    "# Set up code checking\n",
    "from learntools.core import binder\n",
    "binder.bind(globals())\n",
    "from learntools.machine_learning.ex4 import *\n",
    "print(\"Setup Complete\")"
   ]
  },
  {
   "cell_type": "markdown",
   "id": "4f36fc1f",
   "metadata": {
    "papermill": {
     "duration": 0.00347,
     "end_time": "2024-03-09T02:04:29.243309",
     "exception": false,
     "start_time": "2024-03-09T02:04:29.239839",
     "status": "completed"
    },
    "tags": []
   },
   "source": [
    "# Exercises\n",
    "\n",
    "## Step 1: Split Your Data\n",
    "Use the `train_test_split` function to split up your data.\n",
    "\n",
    "Give it the argument `random_state=1` so the `check` functions know what to expect when verifying your code.\n",
    "\n",
    "Recall, your features are loaded in the DataFrame **X** and your target is loaded in **y**.\n"
   ]
  },
  {
   "cell_type": "code",
   "execution_count": 2,
   "id": "a8cbb0e4",
   "metadata": {
    "execution": {
     "iopub.execute_input": "2024-03-09T02:04:29.252104Z",
     "iopub.status.busy": "2024-03-09T02:04:29.251792Z",
     "iopub.status.idle": "2024-03-09T02:04:29.265432Z",
     "shell.execute_reply": "2024-03-09T02:04:29.264552Z"
    },
    "papermill": {
     "duration": 0.021769,
     "end_time": "2024-03-09T02:04:29.268658",
     "exception": false,
     "start_time": "2024-03-09T02:04:29.246889",
     "status": "completed"
    },
    "tags": []
   },
   "outputs": [
    {
     "data": {
      "application/javascript": [
       "parent.postMessage({\"jupyterEvent\": \"custom.exercise_interaction\", \"data\": {\"outcomeType\": 1, \"valueTowardsCompletion\": 0.25, \"interactionType\": 1, \"questionType\": 2, \"questionId\": \"1_SplitData\", \"learnToolsVersion\": \"0.3.4\", \"failureMessage\": \"\", \"exceptionClass\": \"\", \"trace\": \"\"}}, \"*\")"
      ],
      "text/plain": [
       "<IPython.core.display.Javascript object>"
      ]
     },
     "metadata": {},
     "output_type": "display_data"
    },
    {
     "data": {
      "text/markdown": [
       "<span style=\"color:#33cc33\">Correct</span>"
      ],
      "text/plain": [
       "Correct"
      ]
     },
     "metadata": {},
     "output_type": "display_data"
    }
   ],
   "source": [
    "# Import the train_test_split function and uncomment\n",
    "# from _ import _\n",
    "\n",
    "# fill in and uncomment\n",
    "# train_X, val_X, train_y, val_y = ____\n",
    "from sklearn.model_selection import train_test_split\n",
    "\n",
    "# Split the data into training and validation sets\n",
    "train_X, val_X, train_y, val_y = train_test_split(X, y, random_state=1)\n",
    "\n",
    "# Check your answer\n",
    "step_1.check()\n"
   ]
  },
  {
   "cell_type": "code",
   "execution_count": 3,
   "id": "1bb5b8f1",
   "metadata": {
    "execution": {
     "iopub.execute_input": "2024-03-09T02:04:29.278542Z",
     "iopub.status.busy": "2024-03-09T02:04:29.278215Z",
     "iopub.status.idle": "2024-03-09T02:04:29.281733Z",
     "shell.execute_reply": "2024-03-09T02:04:29.280728Z"
    },
    "papermill": {
     "duration": 0.010617,
     "end_time": "2024-03-09T02:04:29.283498",
     "exception": false,
     "start_time": "2024-03-09T02:04:29.272881",
     "status": "completed"
    },
    "tags": []
   },
   "outputs": [],
   "source": [
    "# The lines below will show you a hint or the solution.\n",
    "# step_1.hint() \n",
    "# step_1.solution()\n"
   ]
  },
  {
   "cell_type": "markdown",
   "id": "e1a7263c",
   "metadata": {
    "papermill": {
     "duration": 0.003924,
     "end_time": "2024-03-09T02:04:29.291780",
     "exception": false,
     "start_time": "2024-03-09T02:04:29.287856",
     "status": "completed"
    },
    "tags": []
   },
   "source": [
    "## Step 2: Specify and Fit the Model\n",
    "\n",
    "Create a `DecisionTreeRegressor` model and fit it to the relevant data.\n",
    "Set `random_state` to 1 again when creating the model."
   ]
  },
  {
   "cell_type": "code",
   "execution_count": 4,
   "id": "b15c179e",
   "metadata": {
    "execution": {
     "iopub.execute_input": "2024-03-09T02:04:29.301906Z",
     "iopub.status.busy": "2024-03-09T02:04:29.301306Z",
     "iopub.status.idle": "2024-03-09T02:04:29.324111Z",
     "shell.execute_reply": "2024-03-09T02:04:29.323260Z"
    },
    "papermill": {
     "duration": 0.029671,
     "end_time": "2024-03-09T02:04:29.325673",
     "exception": false,
     "start_time": "2024-03-09T02:04:29.296002",
     "status": "completed"
    },
    "tags": []
   },
   "outputs": [
    {
     "name": "stdout",
     "output_type": "stream",
     "text": [
      "[186500. 184000. 130000.  92000. 164500. 220000. 335000. 144152. 215000.\n",
      " 262000.]\n",
      "[186500. 184000. 130000.  92000. 164500. 220000. 335000. 144152. 215000.\n",
      " 262000.]\n"
     ]
    },
    {
     "data": {
      "application/javascript": [
       "parent.postMessage({\"jupyterEvent\": \"custom.exercise_interaction\", \"data\": {\"outcomeType\": 1, \"valueTowardsCompletion\": 0.25, \"interactionType\": 1, \"questionType\": 2, \"questionId\": \"2_FitModelWithTrain\", \"learnToolsVersion\": \"0.3.4\", \"failureMessage\": \"\", \"exceptionClass\": \"\", \"trace\": \"\"}}, \"*\")"
      ],
      "text/plain": [
       "<IPython.core.display.Javascript object>"
      ]
     },
     "metadata": {},
     "output_type": "display_data"
    },
    {
     "data": {
      "text/markdown": [
       "<span style=\"color:#33cc33\">Correct</span>"
      ],
      "text/plain": [
       "Correct"
      ]
     },
     "metadata": {},
     "output_type": "display_data"
    }
   ],
   "source": [
    "# You imported DecisionTreeRegressor in your last exercise\n",
    "# and that code has been copied to the setup code above. So, no need to\n",
    "# import it again\n",
    "# Specify the model with random state for reproducibility\n",
    "iowa_model = DecisionTreeRegressor(random_state=1)\n",
    "\n",
    "# Fit the model to the training data\n",
    "iowa_model.fit(train_X, train_y)\n",
    "\n",
    "# Check your answer\n",
    "step_2.check()"
   ]
  },
  {
   "cell_type": "code",
   "execution_count": 5,
   "id": "8384a5d3",
   "metadata": {
    "execution": {
     "iopub.execute_input": "2024-03-09T02:04:29.335770Z",
     "iopub.status.busy": "2024-03-09T02:04:29.335292Z",
     "iopub.status.idle": "2024-03-09T02:04:29.338567Z",
     "shell.execute_reply": "2024-03-09T02:04:29.337651Z"
    },
    "papermill": {
     "duration": 0.010047,
     "end_time": "2024-03-09T02:04:29.340143",
     "exception": false,
     "start_time": "2024-03-09T02:04:29.330096",
     "status": "completed"
    },
    "tags": []
   },
   "outputs": [],
   "source": [
    "# step_2.hint()\n",
    "# step_2.solution()"
   ]
  },
  {
   "cell_type": "markdown",
   "id": "0fa2b527",
   "metadata": {
    "papermill": {
     "duration": 0.00401,
     "end_time": "2024-03-09T02:04:29.348509",
     "exception": false,
     "start_time": "2024-03-09T02:04:29.344499",
     "status": "completed"
    },
    "tags": []
   },
   "source": [
    "## Step 3: Make Predictions with Validation data\n"
   ]
  },
  {
   "cell_type": "code",
   "execution_count": 6,
   "id": "868041be",
   "metadata": {
    "execution": {
     "iopub.execute_input": "2024-03-09T02:04:29.358793Z",
     "iopub.status.busy": "2024-03-09T02:04:29.358333Z",
     "iopub.status.idle": "2024-03-09T02:04:29.370318Z",
     "shell.execute_reply": "2024-03-09T02:04:29.369500Z"
    },
    "papermill": {
     "duration": 0.019828,
     "end_time": "2024-03-09T02:04:29.372521",
     "exception": false,
     "start_time": "2024-03-09T02:04:29.352693",
     "status": "completed"
    },
    "tags": []
   },
   "outputs": [
    {
     "data": {
      "application/javascript": [
       "parent.postMessage({\"jupyterEvent\": \"custom.exercise_interaction\", \"data\": {\"outcomeType\": 1, \"valueTowardsCompletion\": 0.25, \"interactionType\": 1, \"questionType\": 2, \"questionId\": \"3_ValPreds\", \"learnToolsVersion\": \"0.3.4\", \"failureMessage\": \"\", \"exceptionClass\": \"\", \"trace\": \"\"}}, \"*\")"
      ],
      "text/plain": [
       "<IPython.core.display.Javascript object>"
      ]
     },
     "metadata": {},
     "output_type": "display_data"
    },
    {
     "data": {
      "text/markdown": [
       "<span style=\"color:#33cc33\">Correct</span>"
      ],
      "text/plain": [
       "Correct"
      ]
     },
     "metadata": {},
     "output_type": "display_data"
    }
   ],
   "source": [
    "# Predict with all validation observations\n",
    "val_predictions =  iowa_model.predict(val_X)\n",
    "\n",
    "# Check your answer\n",
    "step_3.check()"
   ]
  },
  {
   "cell_type": "code",
   "execution_count": 7,
   "id": "aa94e3bd",
   "metadata": {
    "execution": {
     "iopub.execute_input": "2024-03-09T02:04:29.383694Z",
     "iopub.status.busy": "2024-03-09T02:04:29.383334Z",
     "iopub.status.idle": "2024-03-09T02:04:29.386938Z",
     "shell.execute_reply": "2024-03-09T02:04:29.386126Z"
    },
    "papermill": {
     "duration": 0.011147,
     "end_time": "2024-03-09T02:04:29.388642",
     "exception": false,
     "start_time": "2024-03-09T02:04:29.377495",
     "status": "completed"
    },
    "tags": []
   },
   "outputs": [],
   "source": [
    "# step_3.hint()\n",
    "# step_3.solution()"
   ]
  },
  {
   "cell_type": "markdown",
   "id": "10331a51",
   "metadata": {
    "papermill": {
     "duration": 0.004352,
     "end_time": "2024-03-09T02:04:29.397812",
     "exception": false,
     "start_time": "2024-03-09T02:04:29.393460",
     "status": "completed"
    },
    "tags": []
   },
   "source": [
    "Inspect your predictions and actual values from validation data."
   ]
  },
  {
   "cell_type": "code",
   "execution_count": 8,
   "id": "a475e793",
   "metadata": {
    "execution": {
     "iopub.execute_input": "2024-03-09T02:04:29.409133Z",
     "iopub.status.busy": "2024-03-09T02:04:29.408113Z",
     "iopub.status.idle": "2024-03-09T02:04:29.414320Z",
     "shell.execute_reply": "2024-03-09T02:04:29.413365Z"
    },
    "papermill": {
     "duration": 0.013517,
     "end_time": "2024-03-09T02:04:29.415929",
     "exception": false,
     "start_time": "2024-03-09T02:04:29.402412",
     "status": "completed"
    },
    "tags": []
   },
   "outputs": [
    {
     "name": "stdout",
     "output_type": "stream",
     "text": [
      "[186500. 184000. 130000.  92000. 164500.]\n",
      "258     231500\n",
      "267     179500\n",
      "288     122000\n",
      "649      84500\n",
      "1233    142000\n",
      "Name: SalePrice, dtype: int64\n"
     ]
    }
   ],
   "source": [
    "# print the top few validation predictions\n",
    "print(val_predictions[:5])\n",
    "# print the top few actual prices from validation data\n",
    "print(val_y[:5])\n"
   ]
  },
  {
   "cell_type": "markdown",
   "id": "4f745ada",
   "metadata": {
    "papermill": {
     "duration": 0.004347,
     "end_time": "2024-03-09T02:04:29.425392",
     "exception": false,
     "start_time": "2024-03-09T02:04:29.421045",
     "status": "completed"
    },
    "tags": []
   },
   "source": [
    "What do you notice that is different from what you saw with in-sample predictions (which are printed after the top code cell in this page).\n",
    "\n",
    "Do you remember why validation predictions differ from in-sample (or training) predictions? This is an important idea from the last lesson.\n",
    "\n",
    "## Step 4: Calculate the Mean Absolute Error in Validation Data\n"
   ]
  },
  {
   "cell_type": "code",
   "execution_count": 9,
   "id": "989e4347",
   "metadata": {
    "execution": {
     "iopub.execute_input": "2024-03-09T02:04:29.436916Z",
     "iopub.status.busy": "2024-03-09T02:04:29.435679Z",
     "iopub.status.idle": "2024-03-09T02:04:29.446326Z",
     "shell.execute_reply": "2024-03-09T02:04:29.445244Z"
    },
    "papermill": {
     "duration": 0.018121,
     "end_time": "2024-03-09T02:04:29.448102",
     "exception": false,
     "start_time": "2024-03-09T02:04:29.429981",
     "status": "completed"
    },
    "tags": []
   },
   "outputs": [
    {
     "name": "stdout",
     "output_type": "stream",
     "text": [
      "29652.931506849316\n"
     ]
    },
    {
     "data": {
      "application/javascript": [
       "parent.postMessage({\"jupyterEvent\": \"custom.exercise_interaction\", \"data\": {\"outcomeType\": 1, \"valueTowardsCompletion\": 0.25, \"interactionType\": 1, \"questionType\": 1, \"questionId\": \"4_MAE\", \"learnToolsVersion\": \"0.3.4\", \"failureMessage\": \"\", \"exceptionClass\": \"\", \"trace\": \"\"}}, \"*\")"
      ],
      "text/plain": [
       "<IPython.core.display.Javascript object>"
      ]
     },
     "metadata": {},
     "output_type": "display_data"
    },
    {
     "data": {
      "text/markdown": [
       "<span style=\"color:#33cc33\">Correct</span>"
      ],
      "text/plain": [
       "Correct"
      ]
     },
     "metadata": {},
     "output_type": "display_data"
    }
   ],
   "source": [
    "from sklearn.metrics import mean_absolute_error\n",
    "val_mae =  mean_absolute_error(val_y, val_predictions)\n",
    "\n",
    "# uncomment following line to see the validation_mae\n",
    "print(val_mae)\n",
    "\n",
    "# Check your answer\n",
    "step_4.check()"
   ]
  },
  {
   "cell_type": "code",
   "execution_count": 10,
   "id": "1ac92806",
   "metadata": {
    "execution": {
     "iopub.execute_input": "2024-03-09T02:04:29.459863Z",
     "iopub.status.busy": "2024-03-09T02:04:29.459532Z",
     "iopub.status.idle": "2024-03-09T02:04:29.463516Z",
     "shell.execute_reply": "2024-03-09T02:04:29.462526Z"
    },
    "papermill": {
     "duration": 0.011936,
     "end_time": "2024-03-09T02:04:29.465743",
     "exception": false,
     "start_time": "2024-03-09T02:04:29.453807",
     "status": "completed"
    },
    "tags": []
   },
   "outputs": [],
   "source": [
    "# step_4.hint()\n",
    "# step_4.solution()"
   ]
  },
  {
   "cell_type": "markdown",
   "id": "ae9ac10f",
   "metadata": {
    "papermill": {
     "duration": 0.004726,
     "end_time": "2024-03-09T02:04:29.476052",
     "exception": false,
     "start_time": "2024-03-09T02:04:29.471326",
     "status": "completed"
    },
    "tags": []
   },
   "source": [
    "Is that MAE good?  There isn't a general rule for what values are good that applies across applications. But you'll see how to use (and improve) this number in the next step.\n",
    "\n",
    "# Keep Going\n",
    "\n",
    "You are ready for **[Underfitting and Overfitting](https://www.kaggle.com/dansbecker/underfitting-and-overfitting).**\n"
   ]
  },
  {
   "cell_type": "markdown",
   "id": "e016adbf",
   "metadata": {
    "papermill": {
     "duration": 0.004614,
     "end_time": "2024-03-09T02:04:29.485522",
     "exception": false,
     "start_time": "2024-03-09T02:04:29.480908",
     "status": "completed"
    },
    "tags": []
   },
   "source": [
    "---\n",
    "\n",
    "\n",
    "\n",
    "\n",
    "*Have questions or comments? Visit the [course discussion forum](https://www.kaggle.com/learn/intro-to-machine-learning/discussion) to chat with other learners.*"
   ]
  }
 ],
 "metadata": {
  "kaggle": {
   "accelerator": "none",
   "dataSources": [
    {
     "databundleVersionId": 111096,
     "sourceId": 10211,
     "sourceType": "competition"
    },
    {
     "datasetId": 11167,
     "sourceId": 15520,
     "sourceType": "datasetVersion"
    },
    {
     "datasetId": 2709,
     "sourceId": 38454,
     "sourceType": "datasetVersion"
    }
   ],
   "isGpuEnabled": false,
   "isInternetEnabled": false,
   "language": "python",
   "sourceType": "notebook"
  },
  "kernelspec": {
   "display_name": "Python 3",
   "language": "python",
   "name": "python3"
  },
  "language_info": {
   "codemirror_mode": {
    "name": "ipython",
    "version": 3
   },
   "file_extension": ".py",
   "mimetype": "text/x-python",
   "name": "python",
   "nbconvert_exporter": "python",
   "pygments_lexer": "ipython3",
   "version": "3.10.13"
  },
  "papermill": {
   "default_parameters": {},
   "duration": 5.294188,
   "end_time": "2024-03-09T02:04:30.010175",
   "environment_variables": {},
   "exception": null,
   "input_path": "__notebook__.ipynb",
   "output_path": "__notebook__.ipynb",
   "parameters": {},
   "start_time": "2024-03-09T02:04:24.715987",
   "version": "2.5.0"
  }
 },
 "nbformat": 4,
 "nbformat_minor": 5
}
