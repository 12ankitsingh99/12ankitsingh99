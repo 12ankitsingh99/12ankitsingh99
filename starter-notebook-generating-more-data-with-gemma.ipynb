{
 "cells": [
  {
   "cell_type": "markdown",
   "id": "d8b2d28b",
   "metadata": {
    "_cell_guid": "b1076dfc-b9ad-4769-8c92-a6c4dae69d19",
    "_uuid": "8f2839f25d086af736a60e9eeb907d3b93b6e0e5",
    "papermill": {
     "duration": 0.004186,
     "end_time": "2024-02-29T19:54:18.510342",
     "exception": false,
     "start_time": "2024-02-29T19:54:18.506156",
     "status": "completed"
    },
    "tags": []
   },
   "source": [
    "# Starter Notebook: Generating More Data With Gemma\n",
    "Our ultimate goal in this competition is to take an original sample of text and a new version of that text rewritten by Gemma, and to figure out what prompt was used to get the new version. A helpful first step is to be able to generate a bunch of examples of what that looks like, so we can then learn the relationships between the original text, rewrite prompt and rewritten text.\n",
    "\n",
    "To generate examples, we'll need a few things:\n",
    "1. A corpus of original texts\n",
    "2. A set of rewrite prompts\n",
    "3. Our model (Gemma!) to use the original text and rewrite prompt to generate a rewritten text\n",
    "\n",
    "Let's tackle them one by one."
   ]
  },
  {
   "cell_type": "markdown",
   "id": "d5ed6e45",
   "metadata": {
    "papermill": {
     "duration": 0.003379,
     "end_time": "2024-02-29T19:54:18.517503",
     "exception": false,
     "start_time": "2024-02-29T19:54:18.514124",
     "status": "completed"
    },
    "tags": []
   },
   "source": [
    "## Generating `original_text`\n",
    "While we don't know too much about the original text used in the competition test set,\n",
    "the meta-kaggle dataset provides a corpus of forum messages on kaggle that we can\n",
    "use as a simple example.\n"
   ]
  },
  {
   "cell_type": "code",
   "execution_count": 1,
   "id": "37a35660",
   "metadata": {
    "execution": {
     "iopub.execute_input": "2024-02-29T19:54:18.525694Z",
     "iopub.status.busy": "2024-02-29T19:54:18.525383Z",
     "iopub.status.idle": "2024-02-29T19:54:42.014423Z",
     "shell.execute_reply": "2024-02-29T19:54:42.013487Z"
    },
    "papermill": {
     "duration": 23.495727,
     "end_time": "2024-02-29T19:54:42.016745",
     "exception": false,
     "start_time": "2024-02-29T19:54:18.521018",
     "status": "completed"
    },
    "tags": []
   },
   "outputs": [
    {
     "data": {
      "text/html": [
       "<div>\n",
       "<style scoped>\n",
       "    .dataframe tbody tr th:only-of-type {\n",
       "        vertical-align: middle;\n",
       "    }\n",
       "\n",
       "    .dataframe tbody tr th {\n",
       "        vertical-align: top;\n",
       "    }\n",
       "\n",
       "    .dataframe thead th {\n",
       "        text-align: right;\n",
       "    }\n",
       "</style>\n",
       "<table border=\"1\" class=\"dataframe\">\n",
       "  <thead>\n",
       "    <tr style=\"text-align: right;\">\n",
       "      <th></th>\n",
       "      <th>Id</th>\n",
       "      <th>ForumTopicId</th>\n",
       "      <th>PostUserId</th>\n",
       "      <th>PostDate</th>\n",
       "      <th>ReplyToForumMessageId</th>\n",
       "      <th>Message</th>\n",
       "      <th>Medal</th>\n",
       "      <th>MedalAwardDate</th>\n",
       "    </tr>\n",
       "  </thead>\n",
       "  <tbody>\n",
       "    <tr>\n",
       "      <th>0</th>\n",
       "      <td>667076</td>\n",
       "      <td>74968</td>\n",
       "      <td>3961461</td>\n",
       "      <td>11/06/2019 19:38:19</td>\n",
       "      <td>NaN</td>\n",
       "      <td>&lt;p&gt;A very detailed and helpful notebook, \\nTha...</td>\n",
       "      <td>NaN</td>\n",
       "      <td>NaN</td>\n",
       "    </tr>\n",
       "    <tr>\n",
       "      <th>1</th>\n",
       "      <td>667075</td>\n",
       "      <td>115817</td>\n",
       "      <td>1666986</td>\n",
       "      <td>11/06/2019 19:37:59</td>\n",
       "      <td>NaN</td>\n",
       "      <td>&lt;p&gt;You don't say. You might just got your wish...</td>\n",
       "      <td>NaN</td>\n",
       "      <td>NaN</td>\n",
       "    </tr>\n",
       "    <tr>\n",
       "      <th>2</th>\n",
       "      <td>667074</td>\n",
       "      <td>113468</td>\n",
       "      <td>1073620</td>\n",
       "      <td>11/06/2019 19:34:36</td>\n",
       "      <td>666591.0</td>\n",
       "      <td>&lt;p&gt;Hi &lt;a href=\"/mobassir\"&gt;@mobassir&lt;/a&gt;  If I ...</td>\n",
       "      <td>3.0</td>\n",
       "      <td>11/07/2019</td>\n",
       "    </tr>\n",
       "    <tr>\n",
       "      <th>3</th>\n",
       "      <td>667073</td>\n",
       "      <td>116025</td>\n",
       "      <td>1666986</td>\n",
       "      <td>11/06/2019 19:33:54</td>\n",
       "      <td>NaN</td>\n",
       "      <td>&lt;p&gt;This like betting your life savings on a ga...</td>\n",
       "      <td>3.0</td>\n",
       "      <td>11/06/2019</td>\n",
       "    </tr>\n",
       "    <tr>\n",
       "      <th>4</th>\n",
       "      <td>667072</td>\n",
       "      <td>111906</td>\n",
       "      <td>2982285</td>\n",
       "      <td>11/06/2019 19:31:42</td>\n",
       "      <td>NaN</td>\n",
       "      <td>&lt;p&gt;Hi everyone... I'm looking for a team. I'm ...</td>\n",
       "      <td>NaN</td>\n",
       "      <td>NaN</td>\n",
       "    </tr>\n",
       "  </tbody>\n",
       "</table>\n",
       "</div>"
      ],
      "text/plain": [
       "       Id  ForumTopicId  PostUserId             PostDate  \\\n",
       "0  667076         74968     3961461  11/06/2019 19:38:19   \n",
       "1  667075        115817     1666986  11/06/2019 19:37:59   \n",
       "2  667074        113468     1073620  11/06/2019 19:34:36   \n",
       "3  667073        116025     1666986  11/06/2019 19:33:54   \n",
       "4  667072        111906     2982285  11/06/2019 19:31:42   \n",
       "\n",
       "   ReplyToForumMessageId                                            Message  \\\n",
       "0                    NaN  <p>A very detailed and helpful notebook, \\nTha...   \n",
       "1                    NaN  <p>You don't say. You might just got your wish...   \n",
       "2               666591.0  <p>Hi <a href=\"/mobassir\">@mobassir</a>  If I ...   \n",
       "3                    NaN  <p>This like betting your life savings on a ga...   \n",
       "4                    NaN  <p>Hi everyone... I'm looking for a team. I'm ...   \n",
       "\n",
       "   Medal MedalAwardDate  \n",
       "0    NaN            NaN  \n",
       "1    NaN            NaN  \n",
       "2    3.0     11/07/2019  \n",
       "3    3.0     11/06/2019  \n",
       "4    NaN            NaN  "
      ]
     },
     "execution_count": 1,
     "metadata": {},
     "output_type": "execute_result"
    }
   ],
   "source": [
    "import pandas as pd\n",
    "\n",
    "forum_messsages_df = pd.read_csv('/kaggle/input/meta-kaggle/ForumMessages.csv')\n",
    "forum_messsages_df.head()"
   ]
  },
  {
   "cell_type": "code",
   "execution_count": 2,
   "id": "9410efed",
   "metadata": {
    "execution": {
     "iopub.execute_input": "2024-02-29T19:54:42.026003Z",
     "iopub.status.busy": "2024-02-29T19:54:42.025707Z",
     "iopub.status.idle": "2024-02-29T19:54:42.030620Z",
     "shell.execute_reply": "2024-02-29T19:54:42.029807Z"
    },
    "papermill": {
     "duration": 0.011598,
     "end_time": "2024-02-29T19:54:42.032525",
     "exception": false,
     "start_time": "2024-02-29T19:54:42.020927",
     "status": "completed"
    },
    "tags": []
   },
   "outputs": [],
   "source": [
    "# Let's grab the first 5 messages to test our generation pipeline:\n",
    "\n",
    "original_texts = forum_messsages_df['Message'][:5]"
   ]
  },
  {
   "cell_type": "markdown",
   "id": "6ec55536",
   "metadata": {
    "papermill": {
     "duration": 0.003637,
     "end_time": "2024-02-29T19:54:42.039993",
     "exception": false,
     "start_time": "2024-02-29T19:54:42.036356",
     "status": "completed"
    },
    "tags": []
   },
   "source": [
    "## Generating `rewrite_prompt`\n",
    "While there are lots of ways to come up with rewrite prompts, for simplicity here are a few random prompts we can use."
   ]
  },
  {
   "cell_type": "code",
   "execution_count": 3,
   "id": "d3165297",
   "metadata": {
    "execution": {
     "iopub.execute_input": "2024-02-29T19:54:42.048770Z",
     "iopub.status.busy": "2024-02-29T19:54:42.048496Z",
     "iopub.status.idle": "2024-02-29T19:54:42.052503Z",
     "shell.execute_reply": "2024-02-29T19:54:42.051629Z"
    },
    "papermill": {
     "duration": 0.010673,
     "end_time": "2024-02-29T19:54:42.054480",
     "exception": false,
     "start_time": "2024-02-29T19:54:42.043807",
     "status": "completed"
    },
    "tags": []
   },
   "outputs": [],
   "source": [
    "rewrite_prompts = [\n",
    "    'Explain this to me like I\\'m five.',\n",
    "    'Convert this into a sea shanty.',\n",
    "    'Make this rhyme.',\n",
    "]"
   ]
  },
  {
   "cell_type": "markdown",
   "id": "60f819a4",
   "metadata": {
    "papermill": {
     "duration": 0.00366,
     "end_time": "2024-02-29T19:54:42.062037",
     "exception": false,
     "start_time": "2024-02-29T19:54:42.058377",
     "status": "completed"
    },
    "tags": []
   },
   "source": [
    "## Generating `rewritten_text` with Gemma\n",
    "Now for the fun part! We can use gemma to rewrite our original text samples\n",
    "using the rewrite prompts we created.\n",
    "The code in this cell is borrowed from [the model card](https://www.kaggle.com/models/google/gemma/frameworks/pyTorch/variations/7b-it-quant).\n",
    "The important things to know:\n",
    "\n",
    "We're using the 7B parameter instruction tuned quantized model, which means:\n",
    "\n",
    "- 7B Parameter: this is the larger of the two Gemma models (the other has 2 billion parameters).\n",
    "    In general we expect the larger model to perform better on complex tasks, but\n",
    "    it's more resource intensive. You can see exactly how Gemma 7B compares to to Gemma 2B [here](https://ai.google.dev/gemma).\n",
    "- Instruction Tuned: instruction tuning is an extra training step that results in a model that\n",
    "    can follow user instructions better. Our rewrite prompt is a kind of instruction, so this is what we want!\n",
    "- Quantized: quantization is a way of shrinking the size of a model by reducing the precision of each\n",
    "    parameter; so while our model still has 7 billion parameters, it's easier to run on limited\n",
    "    hardware.\n",
    "\n",
    "At the end of this cell, we'll have a `model` we can call `generate` on with a specially formatted prompt."
   ]
  },
  {
   "cell_type": "code",
   "execution_count": 4,
   "id": "6f94888c",
   "metadata": {
    "execution": {
     "iopub.execute_input": "2024-02-29T19:54:42.071008Z",
     "iopub.status.busy": "2024-02-29T19:54:42.070561Z",
     "iopub.status.idle": "2024-02-29T19:56:08.293486Z",
     "shell.execute_reply": "2024-02-29T19:56:08.292463Z"
    },
    "papermill": {
     "duration": 86.229879,
     "end_time": "2024-02-29T19:56:08.295806",
     "exception": false,
     "start_time": "2024-02-29T19:54:42.065927",
     "status": "completed"
    },
    "tags": []
   },
   "outputs": [
    {
     "name": "stdout",
     "output_type": "stream",
     "text": [
      "Cloning into 'gemma_pytorch'...\r\n",
      "remote: Enumerating objects: 71, done.\u001b[K\r\n",
      "remote: Counting objects: 100% (16/16), done.\u001b[K\r\n",
      "remote: Compressing objects: 100% (8/8), done.\u001b[K\r\n",
      "remote: Total 71 (delta 12), reused 8 (delta 8), pack-reused 55\u001b[K\r\n",
      "Unpacking objects: 100% (71/71), 2.13 MiB | 5.55 MiB/s, done.\r\n"
     ]
    },
    {
     "name": "stderr",
     "output_type": "stream",
     "text": [
      "/opt/conda/lib/python3.10/site-packages/torch/_utils.py:831: UserWarning: TypedStorage is deprecated. It will be removed in the future and UntypedStorage will be the only storage class. This should only matter to you if you are using storages directly.  To access UntypedStorage directly, use tensor.untyped_storage() instead of tensor.storage()\n",
      "  return self.fget.__get__(instance, owner)()\n"
     ]
    }
   ],
   "source": [
    "!pip install -q -U immutabledict sentencepiece \n",
    "!git clone https://github.com/google/gemma_pytorch.git\n",
    "!mkdir /kaggle/working/gemma/\n",
    "!mv /kaggle/working/gemma_pytorch/gemma/* /kaggle/working/gemma/\n",
    "\n",
    "import sys \n",
    "sys.path.append(\"/kaggle/working/gemma_pytorch/\") \n",
    "from gemma.config import GemmaConfig, get_config_for_7b, get_config_for_2b\n",
    "from gemma.model import GemmaForCausalLM\n",
    "from gemma.tokenizer import Tokenizer\n",
    "import contextlib\n",
    "import os\n",
    "import torch\n",
    "\n",
    "# Load the model\n",
    "VARIANT = \"7b-it-quant\" \n",
    "MACHINE_TYPE = \"cuda\" \n",
    "weights_dir = '/kaggle/input/gemma/pytorch/7b-it-quant/2' \n",
    "\n",
    "@contextlib.contextmanager\n",
    "def _set_default_tensor_type(dtype: torch.dtype):\n",
    "  \"\"\"Sets the default torch dtype to the given dtype.\"\"\"\n",
    "  torch.set_default_dtype(dtype)\n",
    "  yield\n",
    "  torch.set_default_dtype(torch.float)\n",
    "\n",
    "# Model Config.\n",
    "model_config = get_config_for_2b() if \"2b\" in VARIANT else get_config_for_7b()\n",
    "model_config.tokenizer = os.path.join(weights_dir, \"tokenizer.model\")\n",
    "model_config.quant = \"quant\" in VARIANT\n",
    "\n",
    "# Model.\n",
    "device = torch.device(MACHINE_TYPE)\n",
    "with _set_default_tensor_type(model_config.get_dtype()):\n",
    "  model = GemmaForCausalLM(model_config)\n",
    "  ckpt_path = os.path.join(weights_dir, f'gemma-{VARIANT}.ckpt')\n",
    "  model.load_weights(ckpt_path)\n",
    "  model = model.to(device).eval()\n"
   ]
  },
  {
   "cell_type": "code",
   "execution_count": 5,
   "id": "e0da9580",
   "metadata": {
    "execution": {
     "iopub.execute_input": "2024-02-29T19:56:08.306670Z",
     "iopub.status.busy": "2024-02-29T19:56:08.306236Z",
     "iopub.status.idle": "2024-02-29T19:59:36.202439Z",
     "shell.execute_reply": "2024-02-29T19:59:36.201475Z"
    },
    "papermill": {
     "duration": 207.904175,
     "end_time": "2024-02-29T19:59:36.204881",
     "exception": false,
     "start_time": "2024-02-29T19:56:08.300706",
     "status": "completed"
    },
    "tags": []
   },
   "outputs": [],
   "source": [
    "# Now we can loop through our input texts, randomly select a rewrite prompt, and see Gemma in action:\n",
    "\n",
    "import random\n",
    "random.seed(0)\n",
    "# This is the prompt format the model expects\n",
    "USER_CHAT_TEMPLATE = \"<start_of_turn>user\\n{prompt}<end_of_turn>\\n<start_of_turn>model\\n\"\n",
    "\n",
    "rewrite_data = []\n",
    "\n",
    "for original_text in original_texts:\n",
    "    rewrite_prompt = random.choice(rewrite_prompts)\n",
    "    prompt = f'{rewrite_prompt}\\n{original_text}'\n",
    "    rewritten_text = model.generate(\n",
    "        USER_CHAT_TEMPLATE.format(prompt=prompt),\n",
    "        device=device,\n",
    "        output_len=100,\n",
    "    )\n",
    "    rewrite_data.append({\n",
    "        'original_text': original_text,\n",
    "        'rewrite_prompt': rewrite_prompt,\n",
    "        'rewritten_text': rewritten_text,\n",
    "    })\n",
    "    "
   ]
  },
  {
   "cell_type": "code",
   "execution_count": 6,
   "id": "e60da525",
   "metadata": {
    "execution": {
     "iopub.execute_input": "2024-02-29T19:59:36.215914Z",
     "iopub.status.busy": "2024-02-29T19:59:36.215316Z",
     "iopub.status.idle": "2024-02-29T19:59:36.222769Z",
     "shell.execute_reply": "2024-02-29T19:59:36.221877Z"
    },
    "papermill": {
     "duration": 0.014905,
     "end_time": "2024-02-29T19:59:36.224707",
     "exception": false,
     "start_time": "2024-02-29T19:59:36.209802",
     "status": "completed"
    },
    "tags": []
   },
   "outputs": [
    {
     "data": {
      "text/plain": [
       "array([['<p>A very detailed and helpful notebook, \\nThank you </p>',\n",
       "        'Convert this into a sea shanty.',\n",
       "        \"Sure, here's the converted shanty:\\n\\nA notebook of tales, a treasure to hold,\\nA tale of the internet's tales untold.\\nA very detailed and helpful notebook,\\nA thank you to the maker of this nook.\\n\\n(Chorus)\\nHeave ho, me hearties, sing along this song,\\nA notebook of tales to keep us strong.\\nThe internet's secrets are ours to see,\\nAnd the maker of this book, a mighty\"]],\n",
       "      dtype=object)"
      ]
     },
     "execution_count": 6,
     "metadata": {},
     "output_type": "execute_result"
    }
   ],
   "source": [
    "# Let's turn our generated data into a dataframe, and spot check the first rewrite to see if it makes sense.\n",
    "rewrite_data_df = pd.DataFrame(rewrite_data)\n",
    "rewrite_data_df[:1].values"
   ]
  },
  {
   "cell_type": "markdown",
   "id": "ca06d4fc",
   "metadata": {
    "papermill": {
     "duration": 0.004521,
     "end_time": "2024-02-29T19:59:36.233746",
     "exception": false,
     "start_time": "2024-02-29T19:59:36.229225",
     "status": "completed"
    },
    "tags": []
   },
   "source": [
    "# Next Steps\n",
    "\n",
    "Huzzah! We have a dataset with original texts, rewrite prompts, and rewritten text. Here are a couple of suggestions of next steps you could take to generate a larger, more diverse dataset:\n",
    "1. Add more original text data sources; besides just using all of the forum messages (instead of just the first 5), Kaggle has tons of datasets that would make reasonable input text. Here are few random datasets you could use:\n",
    "    - The `Plot` column from the [Wikipedia Movie Plots dataset](https://www.kaggle.com/datasets/jrobischon/wikipedia-movie-plots).\n",
    "    - The `text` column from the [Emotions dataset](https://www.kaggle.com/datasets/nelgiriyewithana/emotions).\n",
    "    - The `body_text` and `abstract` columns of the [Wikibooks Dataset](https://www.kaggle.com/datasets/dhruvildave/wikibooks-dataset).\n",
    "    \n",
    "    Note that each of these may need different preprocessing; for example, Gemma has a context length of 8192 tokens, so if the text is long, you'll need to truncate it.\n",
    "2. Use gemma to generate original text.\n",
    "3. Expand the list of rewrite prompts. You can come up with them manually, or explore having Gemma write rewrite prompts.\n",
    "4. Play around with the generation of `rewritten_text`:\n",
    "   - How does changing `output_len` affect the length and quality of rewrites?\n",
    "   - Do rewrites with the 2B parameter model differ substantially from the 7B model?\n",
    "   - Can you use [few shot prompting](https://www.promptingguide.ai/techniques/fewshot) to get higher quality rewrites?"
   ]
  },
  {
   "cell_type": "code",
   "execution_count": null,
   "id": "37118be2",
   "metadata": {
    "papermill": {
     "duration": 0.004358,
     "end_time": "2024-02-29T19:59:36.242715",
     "exception": false,
     "start_time": "2024-02-29T19:59:36.238357",
     "status": "completed"
    },
    "tags": []
   },
   "outputs": [],
   "source": []
  }
 ],
 "metadata": {
  "kaggle": {
   "accelerator": "gpu",
   "dataSources": [
    {
     "databundleVersionId": 7806901,
     "sourceId": 67121,
     "sourceType": "competition"
    },
    {
     "datasetId": 9,
     "sourceId": 7724386,
     "sourceType": "datasetVersion"
    },
    {
     "modelInstanceId": 8749,
     "sourceId": 11359,
     "sourceType": "modelInstanceVersion"
    }
   ],
   "dockerImageVersionId": 30648,
   "isGpuEnabled": true,
   "isInternetEnabled": true,
   "language": "python",
   "sourceType": "notebook"
  },
  "kernelspec": {
   "display_name": "Python 3",
   "language": "python",
   "name": "python3"
  },
  "language_info": {
   "codemirror_mode": {
    "name": "ipython",
    "version": 3
   },
   "file_extension": ".py",
   "mimetype": "text/x-python",
   "name": "python",
   "nbconvert_exporter": "python",
   "pygments_lexer": "ipython3",
   "version": "3.10.13"
  },
  "papermill": {
   "default_parameters": {},
   "duration": 323.219843,
   "end_time": "2024-02-29T19:59:39.115889",
   "environment_variables": {},
   "exception": null,
   "input_path": "__notebook__.ipynb",
   "output_path": "__notebook__.ipynb",
   "parameters": {},
   "start_time": "2024-02-29T19:54:15.896046",
   "version": "2.5.0"
  }
 },
 "nbformat": 4,
 "nbformat_minor": 5
}
